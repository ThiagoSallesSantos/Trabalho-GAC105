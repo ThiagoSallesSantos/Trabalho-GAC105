{
 "cells": [
  {
   "cell_type": "markdown",
   "id": "249a1454",
   "metadata": {},
   "source": [
    "# Configurações"
   ]
  },
  {
   "cell_type": "code",
   "execution_count": null,
   "id": "e9cb4b1f",
   "metadata": {},
   "outputs": [],
   "source": [
    "%pip install -r ./../requirements.txt"
   ]
  },
  {
   "cell_type": "markdown",
   "id": "9865a372",
   "metadata": {},
   "source": [
    "# Import's"
   ]
  },
  {
   "cell_type": "code",
   "execution_count": null,
   "id": "9aa595f7",
   "metadata": {},
   "outputs": [],
   "source": [
    "from AlgoritmoGenetico import AlgoritmoGenetico, AlgoritmoGeneticoParalelo\n",
    "import matplotlib.pyplot as plt\n",
    "import statistics\n",
    "import json"
   ]
  },
  {
   "cell_type": "markdown",
   "id": "95828693",
   "metadata": {},
   "source": [
    "# Valores de Configuração"
   ]
  },
  {
   "cell_type": "code",
   "execution_count": null,
   "id": "4ecd4816",
   "metadata": {},
   "outputs": [],
   "source": [
    "qtd_execucoes = 10 ## Quantidade de execuções a serem realizadas por parametro, para realização da média de tempo gasto\n",
    "random_seed = 7 ## Random seed a ser usada\n",
    "lista_qtd_geracoes = [25, 50, 75, 100] ## Lista com a quantidade de gerações a serem realizadas\n",
    "lista_qtd_individuos = [100, 250, 500, 1000] ## Lista com a quantidade de individuos a serem criados por geração\n",
    "lista_qtd_processos = [2, 4, 6, 8] ## Lista com a quantidade de processos a serem utilizadas"
   ]
  },
  {
   "cell_type": "markdown",
   "id": "64be141c",
   "metadata": {},
   "source": [
    "# Criando as Instâncias dos Algoritmos Genéticos"
   ]
  },
  {
   "cell_type": "code",
   "execution_count": null,
   "id": "a0c96dfb",
   "metadata": {},
   "outputs": [],
   "source": [
    "AG = AlgoritmoGenetico(random_seed=random_seed) ## Cria uma instância do Algoritmo Genético Sequencial\n",
    "AGP = AlgoritmoGeneticoParalelo(random_seed=random_seed) ## Cria uma instância do Algoritmo Genético Paralelo"
   ]
  },
  {
   "cell_type": "markdown",
   "id": "d598bbc9",
   "metadata": {},
   "source": [
    "# Executando"
   ]
  },
  {
   "cell_type": "code",
   "execution_count": null,
   "id": "b4464b16",
   "metadata": {},
   "outputs": [],
   "source": [
    "resultado_final = [] ## Armazena os valores resultantes das execuções\n",
    "\n",
    "for geracoes in lista_qtd_geracoes: ## Percorre a lista pegando a quantidade de gerações\n",
    "\n",
    "    print(\"- Inicializada a etapa com \" + str(geracoes) + \" gerações!\")\n",
    "\n",
    "    ## Configuração da quantidade de gerações dos Algoritmos Geneticos - Inicio\n",
    "    AG.set_qtd_geracoes(geracoes) ## Set da quantidade de geração do AG Sequencial\n",
    "    AGP.set_qtd_geracoes(geracoes) ## Set da quantidade de geração do AG Paralelo\n",
    "    ############################# - Fim\n",
    "\n",
    "    lista_resultados_individuos = []\n",
    "\n",
    "    for individuos in lista_qtd_individuos: ## Percorre a lista pegando a quantidade de individuos\n",
    "\n",
    "        print(\"\\t- Inicializada a etapa com \" + str(individuos) + \" individuos!\")\n",
    "\n",
    "        ## Configuração da quantidade de individuos dos Algoritmos Geneticos - Inicio\n",
    "        AG.set_qtd_individuos(individuos) ## Set da quantidade de individuos do AG Sequencial\n",
    "        AGP.set_qtd_individuos(individuos) ## Set da quantidade de individuos do AG Paralelo\n",
    "        ############################# - Fim\n",
    "\n",
    "        print(\"\\t\\t- Inicializada a etapa de execução do Algoritmo Genético Sequencial!\")\n",
    "\n",
    "        ## Execução do Algoritmo Genético Sequencial - Inicio\n",
    "        lista_resultados_sequenciais = [] ## Armazena o resultados das execuções do AG Sequencial com determinada configuração\n",
    "        for execucao in range(qtd_execucoes): ## Executando o código X vezes\n",
    "            lista_resultados_sequenciais.append(AG.start[1]) ## Salvando o tempo gasto na execução\n",
    "        ############################# - Fim\n",
    "\n",
    "        print(\"\\t\\t- Finalizada a etapa de execução do Algoritmo Genético Sequencial!\")\n",
    "\n",
    "        print(\"\\t\\t- Inicializada a etapa de execução do Algoritmo Genético Paralelo!\")\n",
    "\n",
    "        ## Execução do Algoritmo Genético Paralelo - Inicio\n",
    "        lista_resultados_paralelos = [] ## Armazena o resultados das execuções do AG Paralelo com determinada configuração\n",
    "        for processos in lista_qtd_processos: ## Percorre a lista pegando a quantidade de processos a serem utilizados\n",
    "            lista_resultados_paralelos_processos = [] ## Armazena os resultados das execuções do AG Paralelo por processos\n",
    "            \n",
    "            ## Configuração da quantidade de processos dos Algoritmos Geneticos Paralelo - Inicio\n",
    "            AGP.set_qtd_processos(processos) ## Set da quantidade de processos do AG Paralelo\n",
    "            ############################# - Fim\n",
    "\n",
    "            print(\"\\t\\t\\t- Inicializada a execução com \" + str(processos) + \" processos!\")\n",
    "\n",
    "            for execucao in range(qtd_execucoes): ## Executando o código X vezes\n",
    "                lista_resultados_paralelos_processos.append(AGP.start[1]) ## Salvando o tempo gasto na execução\n",
    "            lista_resultados_paralelos.append(dict({\"processos\" : processos, \"resultado\" : statistics.mean(lista_resultados_paralelos_processos)}))\n",
    "        \n",
    "            print(\"\\t\\t\\t- Finalizada a execução com \" + str(processos) + \" processos!\")\n",
    "        \n",
    "        ############################# - Fim\n",
    "\n",
    "        print(\"\\t\\t- Finalizada a etapa de execução do Algoritmo Genético Paralelo!\")\n",
    "\n",
    "        ## Preparando os resultados obtidos por individuo - Inicio\n",
    "        lista_resultados_individuos.append(\n",
    "            dict({\n",
    "                \"individuos\" : individuos,\n",
    "                \"resultado_sequencial\" : statistics.mean(lista_resultados_sequenciais),\n",
    "                \"resultado_paralelo\" : lista_resultados_paralelos\n",
    "            })\n",
    "        )\n",
    "        ############################# - Fim\n",
    "\n",
    "        print(\"\\t- Finalizada a etapa com \" + str(individuos) + \" individuos!\")\n",
    "\n",
    "    ## Preparando os resultados obtidos por individuo - Inicio\n",
    "    resultado_final.append(\n",
    "        dict({\n",
    "            \"geracao\" : geracoes,\n",
    "            \"resultado\" : lista_resultados_individuos\n",
    "        })\n",
    "    )\n",
    "    ############################# - Fim\n",
    "\n",
    "    print(\"- Finalizada a etapa com \" + str(geracoes) + \" gerações!\")\n"
   ]
  },
  {
   "cell_type": "markdown",
   "id": "8d3028e4",
   "metadata": {},
   "source": [
    "# Salvando os Resultados"
   ]
  },
  {
   "cell_type": "code",
   "execution_count": null,
   "id": "8e3514ff",
   "metadata": {},
   "outputs": [],
   "source": [
    "with open(\"resultados.json\", \"w\") as arquivo:\n",
    "    json.dump(resultado_final, arquivo, indent=4)\n",
    "    arquivo.close()"
   ]
  },
  {
   "cell_type": "markdown",
   "id": "f4a1070c",
   "metadata": {},
   "source": [
    "# Lendo os Resultados Salvos"
   ]
  },
  {
   "cell_type": "code",
   "execution_count": null,
   "id": "b96c6092",
   "metadata": {},
   "outputs": [],
   "source": [
    "with open(\"resultados.json\", \"r\") as arquivo:\n",
    "    resultado_final = json.load(arquivo)\n",
    "    arquivo.close()"
   ]
  },
  {
   "cell_type": "markdown",
   "id": "37d5a8c6",
   "metadata": {},
   "source": [
    "# Observando os Resultados"
   ]
  },
  {
   "cell_type": "code",
   "execution_count": null,
   "id": "6e8180dc",
   "metadata": {},
   "outputs": [],
   "source": [
    "resultado_final"
   ]
  },
  {
   "cell_type": "markdown",
   "id": "c962194c",
   "metadata": {},
   "source": [
    "# Analisando os Resultados"
   ]
  },
  {
   "cell_type": "markdown",
   "id": "a7ca939b",
   "metadata": {},
   "source": [
    "## Gráficos de Tempo de execução"
   ]
  },
  {
   "cell_type": "code",
   "execution_count": null,
   "id": "ff3ace40",
   "metadata": {},
   "outputs": [],
   "source": [
    "for geracoes in resultado_final: ## Percorre as gerações utilizadas no resultado\n",
    "\n",
    "    dados_grafico_echo_x = [[] for x in range(len(lista_qtd_processos)+1)] ## Armazena os dado o tempo gasto nas exceuções para plot do grafico\n",
    "    dados_grafico_echo_y = [resultado[\"individuos\"] for resultado in geracoes[\"resultado\"]] ## Armazena os dado de individuos para plot no grafico\n",
    "\n",
    "    for resultado in geracoes[\"resultado\"]: ## Percorre os resultados\n",
    "\n",
    "        index = 0\n",
    "        dados_grafico_echo_x[index].append([resultado[\"resultado_sequencial\"], \"Sequencial\"])\n",
    "\n",
    "        for resultado_paralelo in resultado[\"resultado_paralelo\"]:\n",
    "            index += 1\n",
    "            dados_grafico_echo_x[index].append([resultado_paralelo[\"resultado\"], str( str(resultado_paralelo[\"processos\"]) + \"-Processos\")])\n",
    "\n",
    "    for dados_echo_x in dados_grafico_echo_x:\n",
    "        echo_x = [dado[0] for dado in dados_echo_x]\n",
    "        plt.plot(dados_grafico_echo_y, echo_x, label=dados_echo_x[0][1])\n",
    "    plt.xlabel(\"Quantidade de individuos\")\n",
    "    plt.ylabel(\"Tempo de execução (segundos)\")\n",
    "    plt.title(\"Gráfico com \" + str(geracoes[\"geracao\"]) + \" gerações\")\n",
    "    plt.grid(True)\n",
    "    plt.legend()\n",
    "    plt.show()"
   ]
  },
  {
   "cell_type": "code",
   "execution_count": null,
   "id": "05822227",
   "metadata": {},
   "outputs": [],
   "source": []
  }
 ],
 "metadata": {
  "kernelspec": {
   "display_name": "Python 3 (ipykernel)",
   "language": "python",
   "name": "python3"
  },
  "language_info": {
   "codemirror_mode": {
    "name": "ipython",
    "version": 3
   },
   "file_extension": ".py",
   "mimetype": "text/x-python",
   "name": "python",
   "nbconvert_exporter": "python",
   "pygments_lexer": "ipython3",
   "version": "3.10.4"
  },
  "vscode": {
   "interpreter": {
    "hash": "b9ef84c15853bbde32bea7cbc97831fc6144243793400b33f698e80d490f9b5e"
   }
  }
 },
 "nbformat": 4,
 "nbformat_minor": 5
}
