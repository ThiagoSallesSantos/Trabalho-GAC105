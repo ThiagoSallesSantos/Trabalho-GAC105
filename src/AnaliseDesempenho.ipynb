{
 "cells": [
  {
   "cell_type": "markdown",
   "id": "249a1454",
   "metadata": {},
   "source": [
    "# Configurações"
   ]
  },
  {
   "cell_type": "code",
   "execution_count": null,
   "id": "e9cb4b1f",
   "metadata": {},
   "outputs": [],
   "source": [
    "!pip install -r ./../requirements.txt"
   ]
  },
  {
   "cell_type": "markdown",
   "id": "9865a372",
   "metadata": {},
   "source": [
    "# Import's"
   ]
  },
  {
   "cell_type": "code",
   "execution_count": 2,
   "id": "9aa595f7",
   "metadata": {},
   "outputs": [],
   "source": [
    "from AlgoritmoGenetico import AlgoritmoGenetico, AlgoritmoGeneticoParalelo\n",
    "import matplotlib"
   ]
  },
  {
   "cell_type": "markdown",
   "id": "95828693",
   "metadata": {},
   "source": [
    "# Valores de Configuração"
   ]
  },
  {
   "cell_type": "code",
   "execution_count": 3,
   "id": "4ecd4816",
   "metadata": {},
   "outputs": [],
   "source": [
    "qtd_execucoes = 10 ## Quantidade de execuções a serem realizadas por parametro, para realização da média de tempo gasto\n",
    "random_seed = 7 ## Random seed a ser usada\n",
    "lista_qtd_geracoes = [100, 250, 500, 1000] ## Lista com a quantidade de gerações a serem realizadas\n",
    "lista_qtd_individuos = [1000, 10000, 20000, 50000] ## Lista com a quantidade de individuos a serem criados por geração\n",
    "lista_qtd_threads = [2, 4, 6, 8] ## Lista com a quantidade de threads a serem utilizadas"
   ]
  },
  {
   "cell_type": "markdown",
   "id": "64be141c",
   "metadata": {},
   "source": [
    "# Criando as Instâncias dos Algoritmos Genéticos"
   ]
  },
  {
   "cell_type": "code",
   "execution_count": 4,
   "id": "a0c96dfb",
   "metadata": {},
   "outputs": [],
   "source": [
    "AG = AlgoritmoGenetico(random_seed=random_seed) ## Cria uma instância do Algoritmo Genético Sequencial\n",
    "AGP = AlgoritmoGeneticoParalelo(random_seed=random_seed) ## Cria uma instância do Algoritmo Genético Paralelo"
   ]
  },
  {
   "cell_type": "markdown",
   "id": "d598bbc9",
   "metadata": {},
   "source": [
    "# Executando"
   ]
  },
  {
   "cell_type": "code",
   "execution_count": 5,
   "id": "a969d12a",
   "metadata": {},
   "outputs": [],
   "source": [
    "valores_resultantes = [] ## Armazena os valores resultantes das execuções"
   ]
  },
  {
   "cell_type": "code",
   "execution_count": null,
   "id": "b4464b16",
   "metadata": {},
   "outputs": [],
   "source": []
  },
  {
   "cell_type": "code",
   "execution_count": null,
   "id": "37d5a8c6",
   "metadata": {},
   "outputs": [],
   "source": []
  }
 ],
 "metadata": {
  "kernelspec": {
   "display_name": "Python 3 (ipykernel)",
   "language": "python",
   "name": "python3"
  },
  "language_info": {
   "codemirror_mode": {
    "name": "ipython",
    "version": 3
   },
   "file_extension": ".py",
   "mimetype": "text/x-python",
   "name": "python",
   "nbconvert_exporter": "python",
   "pygments_lexer": "ipython3",
   "version": "3.10.4"
  },
  "vscode": {
   "interpreter": {
    "hash": "b9ef84c15853bbde32bea7cbc97831fc6144243793400b33f698e80d490f9b5e"
   }
  }
 },
 "nbformat": 4,
 "nbformat_minor": 5
}
